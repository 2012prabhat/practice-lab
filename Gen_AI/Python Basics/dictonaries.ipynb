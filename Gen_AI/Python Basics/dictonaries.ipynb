{
 "cells": [
  {
   "cell_type": "code",
   "execution_count": 12,
   "id": "7be9d8f9",
   "metadata": {},
   "outputs": [
    {
     "name": "stdout",
     "output_type": "stream",
     "text": [
      "Prabhat\n"
     ]
    }
   ],
   "source": [
    "students = {\n",
    "    'fname':'Prabhat',\n",
    "    'age':28,\n",
    "    'sex':'M',\n",
    "}\n",
    "\n",
    "\n",
    "print(students.get('fname'))"
   ]
  },
  {
   "cell_type": "code",
   "execution_count": 14,
   "id": "09c65381",
   "metadata": {},
   "outputs": [
    {
     "name": "stdout",
     "output_type": "stream",
     "text": [
      "John Doe\n",
      "dict_keys(['fname', 'age', 'sex'])\n"
     ]
    }
   ],
   "source": [
    "students['fname'] = 'John Doe'\n",
    "print(students['fname'])\n",
    "\n",
    "keys = students.keys()\n",
    "print(keys)"
   ]
  },
  {
   "cell_type": "code",
   "execution_count": 19,
   "id": "9fcc9e1c",
   "metadata": {},
   "outputs": [
    {
     "name": "stdout",
     "output_type": "stream",
     "text": [
      "John Doe\n",
      "28\n",
      "M\n"
     ]
    }
   ],
   "source": [
    "for values in students.values():\n",
    "    print(values)"
   ]
  }
 ],
 "metadata": {
  "kernelspec": {
   "display_name": ".venv",
   "language": "python",
   "name": "python3"
  },
  "language_info": {
   "codemirror_mode": {
    "name": "ipython",
    "version": 3
   },
   "file_extension": ".py",
   "mimetype": "text/x-python",
   "name": "python",
   "nbconvert_exporter": "python",
   "pygments_lexer": "ipython3",
   "version": "3.14.0"
  }
 },
 "nbformat": 4,
 "nbformat_minor": 5
}
