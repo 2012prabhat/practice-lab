{
 "cells": [
  {
   "cell_type": "code",
   "execution_count": 6,
   "id": "ca06d439",
   "metadata": {},
   "outputs": [
    {
     "name": "stdout",
     "output_type": "stream",
     "text": [
      "True\n",
      "False\n"
     ]
    }
   ],
   "source": [
    "def isEven(num):\n",
    "    if num%2==0:\n",
    "        return True\n",
    "    else:\n",
    "        return False\n",
    "    \n",
    "print(isEven(10))\n",
    "print(isEven(11))"
   ]
  },
  {
   "cell_type": "code",
   "execution_count": 15,
   "id": "7c14210e",
   "metadata": {},
   "outputs": [
    {
     "name": "stdout",
     "output_type": "stream",
     "text": [
      "My name is Prabhat1\n"
     ]
    }
   ],
   "source": [
    "# using fString\n",
    "def printName(name='Prabaht'):\n",
    "    print(f'My name is {name}')\n",
    "\n",
    "printName('Prabhat1')"
   ]
  },
  {
   "cell_type": "code",
   "execution_count": 30,
   "id": "a07cc91f",
   "metadata": {},
   "outputs": [
    {
     "name": "stdout",
     "output_type": "stream",
     "text": [
      "(1, 2, 3)\n"
     ]
    }
   ],
   "source": [
    "#positional arguments\n",
    "def testFun(*args):\n",
    "    print(args)\n",
    "\n",
    "testFun(1, 2, 3)"
   ]
  },
  {
   "cell_type": "code",
   "execution_count": 34,
   "id": "1ebd7177",
   "metadata": {},
   "outputs": [
    {
     "name": "stdout",
     "output_type": "stream",
     "text": [
      "{'name': 'Prabhat', 'age': 25}\n"
     ]
    }
   ],
   "source": [
    "# keyword arguments\n",
    "def testFun2(**kwargs):\n",
    "    print(kwargs)\n",
    "\n",
    "testFun2(name=\"Prabhat\", age=25)"
   ]
  },
  {
   "cell_type": "code",
   "execution_count": 36,
   "id": "49cb5770",
   "metadata": {},
   "outputs": [
    {
     "name": "stdout",
     "output_type": "stream",
     "text": [
      "(1, 2, 3)\n",
      "{'name': 'Prabhat', 'age': 25}\n"
     ]
    }
   ],
   "source": [
    "# both arguments\n",
    "def testFun3(*args, **kwargs):\n",
    "    print(args)\n",
    "    print(kwargs)\n",
    "\n",
    "testFun3(1, 2, 3, name=\"Prabhat\", age=25)\n"
   ]
  }
 ],
 "metadata": {
  "kernelspec": {
   "display_name": ".venv",
   "language": "python",
   "name": "python3"
  },
  "language_info": {
   "codemirror_mode": {
    "name": "ipython",
    "version": 3
   },
   "file_extension": ".py",
   "mimetype": "text/x-python",
   "name": "python",
   "nbconvert_exporter": "python",
   "pygments_lexer": "ipython3",
   "version": "3.14.0"
  }
 },
 "nbformat": 4,
 "nbformat_minor": 5
}
