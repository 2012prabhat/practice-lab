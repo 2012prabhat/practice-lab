{
 "cells": [
  {
   "cell_type": "code",
   "execution_count": 6,
   "id": "eb267021",
   "metadata": {},
   "outputs": [
    {
     "name": "stdout",
     "output_type": "stream",
     "text": [
      "10\n",
      "8\n",
      "6\n",
      "4\n",
      "2\n"
     ]
    }
   ],
   "source": [
    "# for i in range(0,10,3):\n",
    "#     print(i)\n",
    "\n",
    "# i = 0\n",
    "# while i<10:\n",
    "#     print(i)\n",
    "#     i = i+1\n",
    "\n",
    "\n",
    "for i in range(10,0,-2):\n",
    "    print(i)"
   ]
  }
 ],
 "metadata": {
  "kernelspec": {
   "display_name": ".venv",
   "language": "python",
   "name": "python3"
  },
  "language_info": {
   "codemirror_mode": {
    "name": "ipython",
    "version": 3
   },
   "file_extension": ".py",
   "mimetype": "text/x-python",
   "name": "python",
   "nbconvert_exporter": "python",
   "pygments_lexer": "ipython3",
   "version": "3.14.0"
  }
 },
 "nbformat": 4,
 "nbformat_minor": 5
}
