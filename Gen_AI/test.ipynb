{
 "cells": [
  {
   "cell_type": "code",
   "execution_count": 32,
   "id": "7895e006",
   "metadata": {},
   "outputs": [
    {
     "name": "stdout",
     "output_type": "stream",
     "text": [
      "17\n"
     ]
    }
   ],
   "source": [
    "print(1+2+3+\\\n",
    "    5+6)"
   ]
  },
  {
   "cell_type": "code",
   "execution_count": 37,
   "id": "18ce81cb",
   "metadata": {},
   "outputs": [
    {
     "name": "stdout",
     "output_type": "stream",
     "text": [
      "Else Section\n"
     ]
    }
   ],
   "source": [
    "num = 10\n",
    "if num>10:\n",
    "    print(\"Num is greater than 10\")\n",
    "elif num>15:\n",
    "    print(\"Num is greater than 15\")\n",
    "else:\n",
    "    print(\"Else Section\")"
   ]
  },
  {
   "cell_type": "code",
   "execution_count": null,
   "id": "9c8f765f",
   "metadata": {},
   "outputs": [],
   "source": []
  }
 ],
 "metadata": {
  "kernelspec": {
   "display_name": ".venv",
   "language": "python",
   "name": "python3"
  },
  "language_info": {
   "codemirror_mode": {
    "name": "ipython",
    "version": 3
   },
   "file_extension": ".py",
   "mimetype": "text/x-python",
   "name": "python",
   "nbconvert_exporter": "python",
   "pygments_lexer": "ipython3",
   "version": "3.13.4"
  }
 },
 "nbformat": 4,
 "nbformat_minor": 5
}
